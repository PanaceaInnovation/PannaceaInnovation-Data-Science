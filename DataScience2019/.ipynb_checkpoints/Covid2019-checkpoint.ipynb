{
 "cells": [
  {
   "cell_type": "code",
   "execution_count": 1,
   "id": "8a082c1b-526b-4c4e-be0e-344ce5bcc63f",
   "metadata": {},
   "outputs": [],
   "source": [
    "import pandas as pd\n",
    "import matplotlib.pyplot as plt"
   ]
  },
  {
   "cell_type": "code",
   "execution_count": 2,
   "id": "e0bad42e-f0d0-4249-a2e6-942b94dacd5b",
   "metadata": {},
   "outputs": [
    {
     "data": {
      "text/html": [
       "<div>\n",
       "<style scoped>\n",
       "    .dataframe tbody tr th:only-of-type {\n",
       "        vertical-align: middle;\n",
       "    }\n",
       "\n",
       "    .dataframe tbody tr th {\n",
       "        vertical-align: top;\n",
       "    }\n",
       "\n",
       "    .dataframe thead th {\n",
       "        text-align: right;\n",
       "    }\n",
       "</style>\n",
       "<table border=\"1\" class=\"dataframe\">\n",
       "  <thead>\n",
       "    <tr style=\"text-align: right;\">\n",
       "      <th></th>\n",
       "      <th>uf</th>\n",
       "      <th>tipo_doenca</th>\n",
       "      <th>local_obito</th>\n",
       "      <th>faixa_etaria</th>\n",
       "      <th>sexo</th>\n",
       "      <th>total</th>\n",
       "    </tr>\n",
       "  </thead>\n",
       "  <tbody>\n",
       "    <tr>\n",
       "      <th>0</th>\n",
       "      <td>AC</td>\n",
       "      <td>OUTRAS</td>\n",
       "      <td>DOMICILIO</td>\n",
       "      <td>&lt; 9</td>\n",
       "      <td>F</td>\n",
       "      <td>7</td>\n",
       "    </tr>\n",
       "    <tr>\n",
       "      <th>1</th>\n",
       "      <td>AC</td>\n",
       "      <td>OUTRAS</td>\n",
       "      <td>DOMICILIO</td>\n",
       "      <td>&lt; 9</td>\n",
       "      <td>M</td>\n",
       "      <td>17</td>\n",
       "    </tr>\n",
       "    <tr>\n",
       "      <th>2</th>\n",
       "      <td>AC</td>\n",
       "      <td>OUTRAS</td>\n",
       "      <td>HOSPITAL</td>\n",
       "      <td>&lt; 9</td>\n",
       "      <td>F</td>\n",
       "      <td>48</td>\n",
       "    </tr>\n",
       "    <tr>\n",
       "      <th>3</th>\n",
       "      <td>AC</td>\n",
       "      <td>OUTRAS</td>\n",
       "      <td>HOSPITAL</td>\n",
       "      <td>&lt; 9</td>\n",
       "      <td>M</td>\n",
       "      <td>81</td>\n",
       "    </tr>\n",
       "    <tr>\n",
       "      <th>4</th>\n",
       "      <td>AC</td>\n",
       "      <td>OUTRAS</td>\n",
       "      <td>IGNORADO</td>\n",
       "      <td>&lt; 9</td>\n",
       "      <td>M</td>\n",
       "      <td>1</td>\n",
       "    </tr>\n",
       "    <tr>\n",
       "      <th>...</th>\n",
       "      <td>...</td>\n",
       "      <td>...</td>\n",
       "      <td>...</td>\n",
       "      <td>...</td>\n",
       "      <td>...</td>\n",
       "      <td>...</td>\n",
       "    </tr>\n",
       "    <tr>\n",
       "      <th>12769</th>\n",
       "      <td>TO</td>\n",
       "      <td>PNEUMONIA</td>\n",
       "      <td>HOSPITAL</td>\n",
       "      <td>N/I</td>\n",
       "      <td>F</td>\n",
       "      <td>1</td>\n",
       "    </tr>\n",
       "    <tr>\n",
       "      <th>12770</th>\n",
       "      <td>TO</td>\n",
       "      <td>PNEUMONIA</td>\n",
       "      <td>HOSPITAL</td>\n",
       "      <td>N/I</td>\n",
       "      <td>M</td>\n",
       "      <td>1</td>\n",
       "    </tr>\n",
       "    <tr>\n",
       "      <th>12771</th>\n",
       "      <td>TO</td>\n",
       "      <td>SEPTICEMIA</td>\n",
       "      <td>DOMICILIO</td>\n",
       "      <td>N/I</td>\n",
       "      <td>F</td>\n",
       "      <td>3</td>\n",
       "    </tr>\n",
       "    <tr>\n",
       "      <th>12772</th>\n",
       "      <td>TO</td>\n",
       "      <td>SEPTICEMIA</td>\n",
       "      <td>HOSPITAL</td>\n",
       "      <td>N/I</td>\n",
       "      <td>F</td>\n",
       "      <td>1</td>\n",
       "    </tr>\n",
       "    <tr>\n",
       "      <th>12773</th>\n",
       "      <td>TO</td>\n",
       "      <td>SEPTICEMIA</td>\n",
       "      <td>HOSPITAL</td>\n",
       "      <td>N/I</td>\n",
       "      <td>M</td>\n",
       "      <td>1</td>\n",
       "    </tr>\n",
       "  </tbody>\n",
       "</table>\n",
       "<p>12774 rows × 6 columns</p>\n",
       "</div>"
      ],
      "text/plain": [
       "       uf tipo_doenca local_obito faixa_etaria sexo  total\n",
       "0      AC      OUTRAS   DOMICILIO          < 9    F      7\n",
       "1      AC      OUTRAS   DOMICILIO          < 9    M     17\n",
       "2      AC      OUTRAS    HOSPITAL          < 9    F     48\n",
       "3      AC      OUTRAS    HOSPITAL          < 9    M     81\n",
       "4      AC      OUTRAS    IGNORADO          < 9    M      1\n",
       "...    ..         ...         ...          ...  ...    ...\n",
       "12769  TO   PNEUMONIA    HOSPITAL          N/I    F      1\n",
       "12770  TO   PNEUMONIA    HOSPITAL          N/I    M      1\n",
       "12771  TO  SEPTICEMIA   DOMICILIO          N/I    F      3\n",
       "12772  TO  SEPTICEMIA    HOSPITAL          N/I    F      1\n",
       "12773  TO  SEPTICEMIA    HOSPITAL          N/I    M      1\n",
       "\n",
       "[12774 rows x 6 columns]"
      ]
     },
     "execution_count": 2,
     "metadata": {},
     "output_type": "execute_result"
    }
   ],
   "source": [
    "base2023 = pd.read_csv(\"obitos-2019.csv\")\n",
    "base2023"
   ]
  },
  {
   "cell_type": "code",
   "execution_count": 3,
   "id": "68b8d9bc-55e8-479c-bc1c-c4f0d66b0006",
   "metadata": {},
   "outputs": [
    {
     "name": "stdout",
     "output_type": "stream",
     "text": [
      "              total\n",
      "count  12774.000000\n",
      "mean      95.369735\n",
      "std      441.747242\n",
      "min        1.000000\n",
      "25%        2.000000\n",
      "50%        6.000000\n",
      "75%       34.000000\n",
      "max    12872.000000\n"
     ]
    }
   ],
   "source": [
    "print(base2023.describe())"
   ]
  },
  {
   "cell_type": "code",
   "execution_count": 4,
   "id": "fb85fcf9-8dad-4ee6-b6ec-dd92aab8261e",
   "metadata": {},
   "outputs": [
    {
     "name": "stdout",
     "output_type": "stream",
     "text": [
      "uf              0\n",
      "tipo_doenca     0\n",
      "local_obito     0\n",
      "faixa_etaria    0\n",
      "sexo            6\n",
      "total           0\n",
      "dtype: int64\n"
     ]
    }
   ],
   "source": [
    "print(base2023.isnull().sum())"
   ]
  },
  {
   "cell_type": "code",
   "execution_count": 5,
   "id": "e5872e5d-3d30-4d04-8359-351ecd108e9e",
   "metadata": {},
   "outputs": [
    {
     "name": "stdout",
     "output_type": "stream",
     "text": [
      "Soma total de mortes por COVID: 2\n",
      "Média de mortes por estado: 1.00\n",
      "Mediana de mortes por estado: 1.0\n",
      "uf\n",
      "BA    1\n",
      "MA    1\n",
      "Name: total, dtype: int64\n"
     ]
    }
   ],
   "source": [
    "# Filtrar os dados para obter apenas os registros de mortes por COVID\n",
    "covid_data = base2023[base2023['tipo_doenca'] == 'COVID']\n",
    "\n",
    "# Agrupar os dados por estado e calcular a soma total de mortes por estado\n",
    "mortes_por_estado = covid_data.groupby('uf')['total'].sum()\n",
    "\n",
    "# Calcular a soma total de mortes por COVID\n",
    "soma_total_mortes = mortes_por_estado.sum()\n",
    "print(f\"Soma total de mortes por COVID: {soma_total_mortes}\")\n",
    "\n",
    "# Calcular a média de mortes por estado\n",
    "media_mortes_por_estado = soma_total_mortes / len(mortes_por_estado)\n",
    "print(f\"Média de mortes por estado: {media_mortes_por_estado:.2f}\")\n",
    "\n",
    "# Calcular a mediana de mortes por estado\n",
    "mediana_mortes_por_estado = mortes_por_estado.median()\n",
    "print(f\"Mediana de mortes por estado: {mediana_mortes_por_estado}\")\n",
    "\n",
    "print(mortes_por_estado)"
   ]
  },
  {
   "cell_type": "code",
   "execution_count": 6,
   "id": "c2cb5276-85b4-4212-9fb9-bd09729f3ce2",
   "metadata": {},
   "outputs": [
    {
     "name": "stdout",
     "output_type": "stream",
     "text": [
      "Média de mortes por sexo por UF:\n",
      "sexo\n",
      "F    0.5\n",
      "M    0.5\n",
      "dtype: float64\n",
      "\n",
      "Soma total de mortes por sexo:\n",
      "sexo\n",
      "F    1\n",
      "M    1\n",
      "dtype: int64\n",
      "\n",
      "Soma total de mortes por COVID: 2\n",
      "\n",
      "Percentual de mortes por sexo em relação ao total:\n",
      "sexo\n",
      "F    50.0\n",
      "M    50.0\n",
      "dtype: float64\n"
     ]
    }
   ],
   "source": [
    "# Agrupar os dados por estado (UF) e sexo, calculando a soma total de mortes\n",
    "mortes_por_estado_sexo = covid_data.groupby(['uf', 'sexo'])['total'].sum().unstack(fill_value=0)\n",
    "\n",
    "# Calcular a média de mortes por sexo por UF\n",
    "media_mortes_por_sexo = mortes_por_estado_sexo.mean()\n",
    "print(\"Média de mortes por sexo por UF:\")\n",
    "print(media_mortes_por_sexo)\n",
    "\n",
    "# Calcular a soma total de mortes por sexo\n",
    "soma_total_mortes_sexo = mortes_por_estado_sexo.sum()\n",
    "print(\"\\nSoma total de mortes por sexo:\")\n",
    "print(soma_total_mortes_sexo)\n",
    "\n",
    "# Calcular a soma total de mortes por COVID\n",
    "soma_total_mortes = soma_total_mortes_sexo.sum()\n",
    "print(f\"\\nSoma total de mortes por COVID: {soma_total_mortes}\")\n",
    "\n",
    "# Calcular o percentual de mortes por sexo em relação ao total\n",
    "percentual_mortes_sexo = (soma_total_mortes_sexo / soma_total_mortes) * 100\n",
    "print(\"\\nPercentual de mortes por sexo em relação ao total:\")\n",
    "print(percentual_mortes_sexo)"
   ]
  },
  {
   "cell_type": "code",
   "execution_count": 7,
   "id": "98625ca4-ceeb-4dfa-b4e9-10b7ba495b96",
   "metadata": {},
   "outputs": [
    {
     "ename": "KeyError",
     "evalue": "'I'",
     "output_type": "error",
     "traceback": [
      "\u001b[1;31m---------------------------------------------------------------------------\u001b[0m",
      "\u001b[1;31mKeyError\u001b[0m                                  Traceback (most recent call last)",
      "File \u001b[1;32m~\\anaconda3\\Lib\\site-packages\\pandas\\core\\indexes\\base.py:3791\u001b[0m, in \u001b[0;36mIndex.get_loc\u001b[1;34m(self, key)\u001b[0m\n\u001b[0;32m   3790\u001b[0m \u001b[38;5;28;01mtry\u001b[39;00m:\n\u001b[1;32m-> 3791\u001b[0m     \u001b[38;5;28;01mreturn\u001b[39;00m \u001b[38;5;28mself\u001b[39m\u001b[38;5;241m.\u001b[39m_engine\u001b[38;5;241m.\u001b[39mget_loc(casted_key)\n\u001b[0;32m   3792\u001b[0m \u001b[38;5;28;01mexcept\u001b[39;00m \u001b[38;5;167;01mKeyError\u001b[39;00m \u001b[38;5;28;01mas\u001b[39;00m err:\n",
      "File \u001b[1;32mindex.pyx:152\u001b[0m, in \u001b[0;36mpandas._libs.index.IndexEngine.get_loc\u001b[1;34m()\u001b[0m\n",
      "File \u001b[1;32mindex.pyx:181\u001b[0m, in \u001b[0;36mpandas._libs.index.IndexEngine.get_loc\u001b[1;34m()\u001b[0m\n",
      "File \u001b[1;32mpandas\\_libs\\hashtable_class_helper.pxi:7080\u001b[0m, in \u001b[0;36mpandas._libs.hashtable.PyObjectHashTable.get_item\u001b[1;34m()\u001b[0m\n",
      "File \u001b[1;32mpandas\\_libs\\hashtable_class_helper.pxi:7088\u001b[0m, in \u001b[0;36mpandas._libs.hashtable.PyObjectHashTable.get_item\u001b[1;34m()\u001b[0m\n",
      "\u001b[1;31mKeyError\u001b[0m: 'I'",
      "\nThe above exception was the direct cause of the following exception:\n",
      "\u001b[1;31mKeyError\u001b[0m                                  Traceback (most recent call last)",
      "Cell \u001b[1;32mIn[7], line 3\u001b[0m\n\u001b[0;32m      1\u001b[0m \u001b[38;5;66;03m# Dados para o gráfico de sexo de cada obito\u001b[39;00m\n\u001b[0;32m      2\u001b[0m labels \u001b[38;5;241m=\u001b[39m [\u001b[38;5;124m'\u001b[39m\u001b[38;5;124mHomens\u001b[39m\u001b[38;5;124m'\u001b[39m, \u001b[38;5;124m'\u001b[39m\u001b[38;5;124mMulheres\u001b[39m\u001b[38;5;124m'\u001b[39m, \u001b[38;5;124m'\u001b[39m\u001b[38;5;124mIndefinido\u001b[39m\u001b[38;5;124m'\u001b[39m]\n\u001b[1;32m----> 3\u001b[0m sizes \u001b[38;5;241m=\u001b[39m [media_mortes_por_sexo[\u001b[38;5;124m'\u001b[39m\u001b[38;5;124mM\u001b[39m\u001b[38;5;124m'\u001b[39m], media_mortes_por_sexo[\u001b[38;5;124m'\u001b[39m\u001b[38;5;124mF\u001b[39m\u001b[38;5;124m'\u001b[39m], media_mortes_por_sexo[\u001b[38;5;124m'\u001b[39m\u001b[38;5;124mI\u001b[39m\u001b[38;5;124m'\u001b[39m]]\n\u001b[0;32m      4\u001b[0m colors \u001b[38;5;241m=\u001b[39m [\u001b[38;5;124m'\u001b[39m\u001b[38;5;124mlightblue\u001b[39m\u001b[38;5;124m'\u001b[39m,\u001b[38;5;124m'\u001b[39m\u001b[38;5;124mlightpink\u001b[39m\u001b[38;5;124m'\u001b[39m,\u001b[38;5;124m'\u001b[39m\u001b[38;5;124mgray\u001b[39m\u001b[38;5;124m'\u001b[39m]\n\u001b[0;32m      6\u001b[0m plt\u001b[38;5;241m.\u001b[39mfigure(figsize\u001b[38;5;241m=\u001b[39m(\u001b[38;5;241m8\u001b[39m, \u001b[38;5;241m8\u001b[39m))\n",
      "File \u001b[1;32m~\\anaconda3\\Lib\\site-packages\\pandas\\core\\series.py:1040\u001b[0m, in \u001b[0;36mSeries.__getitem__\u001b[1;34m(self, key)\u001b[0m\n\u001b[0;32m   1037\u001b[0m     \u001b[38;5;28;01mreturn\u001b[39;00m \u001b[38;5;28mself\u001b[39m\u001b[38;5;241m.\u001b[39m_values[key]\n\u001b[0;32m   1039\u001b[0m \u001b[38;5;28;01melif\u001b[39;00m key_is_scalar:\n\u001b[1;32m-> 1040\u001b[0m     \u001b[38;5;28;01mreturn\u001b[39;00m \u001b[38;5;28mself\u001b[39m\u001b[38;5;241m.\u001b[39m_get_value(key)\n\u001b[0;32m   1042\u001b[0m \u001b[38;5;66;03m# Convert generator to list before going through hashable part\u001b[39;00m\n\u001b[0;32m   1043\u001b[0m \u001b[38;5;66;03m# (We will iterate through the generator there to check for slices)\u001b[39;00m\n\u001b[0;32m   1044\u001b[0m \u001b[38;5;28;01mif\u001b[39;00m is_iterator(key):\n",
      "File \u001b[1;32m~\\anaconda3\\Lib\\site-packages\\pandas\\core\\series.py:1156\u001b[0m, in \u001b[0;36mSeries._get_value\u001b[1;34m(self, label, takeable)\u001b[0m\n\u001b[0;32m   1153\u001b[0m     \u001b[38;5;28;01mreturn\u001b[39;00m \u001b[38;5;28mself\u001b[39m\u001b[38;5;241m.\u001b[39m_values[label]\n\u001b[0;32m   1155\u001b[0m \u001b[38;5;66;03m# Similar to Index.get_value, but we do not fall back to positional\u001b[39;00m\n\u001b[1;32m-> 1156\u001b[0m loc \u001b[38;5;241m=\u001b[39m \u001b[38;5;28mself\u001b[39m\u001b[38;5;241m.\u001b[39mindex\u001b[38;5;241m.\u001b[39mget_loc(label)\n\u001b[0;32m   1158\u001b[0m \u001b[38;5;28;01mif\u001b[39;00m is_integer(loc):\n\u001b[0;32m   1159\u001b[0m     \u001b[38;5;28;01mreturn\u001b[39;00m \u001b[38;5;28mself\u001b[39m\u001b[38;5;241m.\u001b[39m_values[loc]\n",
      "File \u001b[1;32m~\\anaconda3\\Lib\\site-packages\\pandas\\core\\indexes\\base.py:3798\u001b[0m, in \u001b[0;36mIndex.get_loc\u001b[1;34m(self, key)\u001b[0m\n\u001b[0;32m   3793\u001b[0m     \u001b[38;5;28;01mif\u001b[39;00m \u001b[38;5;28misinstance\u001b[39m(casted_key, \u001b[38;5;28mslice\u001b[39m) \u001b[38;5;129;01mor\u001b[39;00m (\n\u001b[0;32m   3794\u001b[0m         \u001b[38;5;28misinstance\u001b[39m(casted_key, abc\u001b[38;5;241m.\u001b[39mIterable)\n\u001b[0;32m   3795\u001b[0m         \u001b[38;5;129;01mand\u001b[39;00m \u001b[38;5;28many\u001b[39m(\u001b[38;5;28misinstance\u001b[39m(x, \u001b[38;5;28mslice\u001b[39m) \u001b[38;5;28;01mfor\u001b[39;00m x \u001b[38;5;129;01min\u001b[39;00m casted_key)\n\u001b[0;32m   3796\u001b[0m     ):\n\u001b[0;32m   3797\u001b[0m         \u001b[38;5;28;01mraise\u001b[39;00m InvalidIndexError(key)\n\u001b[1;32m-> 3798\u001b[0m     \u001b[38;5;28;01mraise\u001b[39;00m \u001b[38;5;167;01mKeyError\u001b[39;00m(key) \u001b[38;5;28;01mfrom\u001b[39;00m \u001b[38;5;21;01merr\u001b[39;00m\n\u001b[0;32m   3799\u001b[0m \u001b[38;5;28;01mexcept\u001b[39;00m \u001b[38;5;167;01mTypeError\u001b[39;00m:\n\u001b[0;32m   3800\u001b[0m     \u001b[38;5;66;03m# If we have a listlike key, _check_indexing_error will raise\u001b[39;00m\n\u001b[0;32m   3801\u001b[0m     \u001b[38;5;66;03m#  InvalidIndexError. Otherwise we fall through and re-raise\u001b[39;00m\n\u001b[0;32m   3802\u001b[0m     \u001b[38;5;66;03m#  the TypeError.\u001b[39;00m\n\u001b[0;32m   3803\u001b[0m     \u001b[38;5;28mself\u001b[39m\u001b[38;5;241m.\u001b[39m_check_indexing_error(key)\n",
      "\u001b[1;31mKeyError\u001b[0m: 'I'"
     ]
    }
   ],
   "source": [
    "# Dados para o gráfico de sexo de cada obito\n",
    "labels = ['Homens', 'Mulheres', 'Indefinido']\n",
    "sizes = [media_mortes_por_sexo['M'], media_mortes_por_sexo['F'], media_mortes_por_sexo['I']]\n",
    "colors = ['lightblue','lightpink','gray']\n",
    "\n",
    "plt.figure(figsize=(8, 8))\n",
    "plt.pie(sizes, labels=labels, colors=colors, autopct='%1.2f%%', startangle=140)\n",
    "plt.title('Média de Mortes por COVID por Sexo por Estado')\n",
    "plt.axis('equal')\n",
    "plt.show()"
   ]
  },
  {
   "cell_type": "code",
   "execution_count": null,
   "id": "011131e0-9481-4651-9f0d-2a9538616636",
   "metadata": {},
   "outputs": [],
   "source": [
    "# Agrupar os dados por faixa etária, calculando a soma total de mortes\n",
    "mortes_por_faixa_etaria = covid_data.groupby('faixa_etaria')['total'].sum()\n",
    "\n",
    "# Identificar a faixa etária com o maior número de óbitos\n",
    "faixa_mais_obitos = mortes_por_faixa_etaria.idxmax()\n",
    "total_obitos_faixa_mais_obitos = mortes_por_faixa_etaria.max()\n",
    "\n",
    "# Calcular a soma total de mortes por COVID\n",
    "soma_total_mortes = mortes_por_faixa_etaria.sum()\n",
    "\n",
    "# Calcular a porcentagem da faixa etária com mais óbitos em relação ao total\n",
    "percentual_faixa_mais_obitos = (total_obitos_faixa_mais_obitos / soma_total_mortes) * 100\n",
    "\n",
    "print(f\"A maior parte dos óbitos por COVID aconteceu na faixa etária de {faixa_mais_obitos}.\")\n",
    "print(f\"Essa faixa representa {percentual_faixa_mais_obitos:.2f}% do total de óbitos por COVID no Brasil.\")"
   ]
  },
  {
   "cell_type": "code",
   "execution_count": null,
   "id": "eccc78f5-ef15-4990-8495-4fc817f84ada",
   "metadata": {},
   "outputs": [],
   "source": [
    "# Gráfico de barras das mortes por faixa etária\n",
    "plt.figure(figsize=(10, 6))\n",
    "mortes_por_faixa_etaria.plot(kind='bar', color='skyblue', edgecolor='black')\n",
    "plt.title('Óbitos por COVID por Faixa Etária')\n",
    "plt.xlabel('Faixa Etária')\n",
    "plt.ylabel('Número de Óbitos')\n",
    "plt.xticks(rotation=45)\n",
    "plt.tight_layout()\n",
    "plt.show()\n",
    "\n",
    "# Gráfico de pizza para a distribuição das mortes por faixa etária\n",
    "plt.figure(figsize=(6, 6))\n",
    "mortes_por_faixa_etaria.plot(kind='pie', autopct='%1.1f%%', startangle=140, colors=plt.cm.Paired(range(len(mortes_por_faixa_etaria))))\n",
    "plt.title('Distribuição de Óbitos por COVID por Faixa Etária')\n",
    "plt.ylabel('') \n",
    "plt.axis('equal')\n",
    "plt.show()"
   ]
  },
  {
   "cell_type": "code",
   "execution_count": null,
   "id": "918431fe-8127-4a81-8d6d-d803dbfb827c",
   "metadata": {},
   "outputs": [],
   "source": [
    "# Calcular a porcentagem de óbitos de pessoas com 60 anos ou mais\n",
    "porcentagem_idosos = mortes_por_faixa_etaria['60-79':].sum() / mortes_por_faixa_etaria.sum() * 100\n",
    "\n",
    "print(f\"Porcentagem de óbitos de idosos (60 anos ou mais): {porcentagem_idosos:.2f}%\")"
   ]
  },
  {
   "cell_type": "code",
   "execution_count": null,
   "id": "78d1dc7a-594b-4426-90b1-a1366ab071c3",
   "metadata": {},
   "outputs": [],
   "source": [
    "# Definir locais considerados adequados\n",
    "locais_adequados = ['HOSPITAL', 'POSTO_SAUDE', 'OUTROS_SERVICOS_SAUDE']\n",
    "\n",
    "# Criar uma cópia do DataFrame para evitar o SettingWithCopyWarning\n",
    "covid_data = covid_data.copy()\n",
    "\n",
    "# Criar a nova coluna usando loc e uma função lambda\n",
    "covid_data.loc[:, 'local_adequado'] = covid_data['local_obito'].apply(lambda x: 'Adequado' if x in locais_adequados else 'Inadequado')\n",
    "\n",
    "# Agrupar os dados por local adequado/inadequado e calcular a soma total de mortes\n",
    "mortes_por_local = covid_data.groupby('local_adequado')['total'].sum()\n",
    "\n",
    "# Calcular a quantidade total de mortes por COVID\n",
    "soma_total_mortes = mortes_por_local.sum()\n",
    "\n",
    "# Calcular os valores específicos e percentuais para locais adequados, inadequados e desconhecidos\n",
    "mortes_adequadas = mortes_por_local.get('Adequado', 0)\n",
    "mortes_inadequadas = mortes_por_local.get('Inadequado', 0)\n",
    "mortes_desconhecidas = soma_total_mortes - (mortes_adequadas + mortes_inadequadas)\n",
    "\n",
    "percentual_adequadas = (mortes_adequadas / soma_total_mortes) * 100\n",
    "percentual_inadequadas = (mortes_inadequadas / soma_total_mortes) * 100\n",
    "percentual_desconhecidas = (mortes_desconhecidas / soma_total_mortes) * 100\n",
    "print(f\"Da quantidade total de {soma_total_mortes} óbitos por COVID, {mortes_adequadas} ocorreram em locais adequados, o que representa aproximadamente {percentual_adequadas:.2f}% da quantidade total.\")\n",
    "print(f\"Sendo assim, outros {mortes_inadequadas} óbitos ocorreram em locais inadequados, representando cerca de {percentual_inadequadas:.2f}% do total.\")\n",
    "print(f\"E outros {mortes_desconhecidas} não há informações sobre o local dos óbitos, sendo esses {percentual_desconhecidas:.2f}% dos óbitos.\")"
   ]
  },
  {
   "cell_type": "code",
   "execution_count": null,
   "id": "444c2e00-6e45-466f-b0ed-a90fd9a9c9c2",
   "metadata": {},
   "outputs": [],
   "source": [
    "# Criando grafico relativo a local dos obitos\n",
    "labels = ['Locais Adequados', 'Locais Inadequados', 'Sem Informação']\n",
    "sizes = [mortes_adequadas, mortes_inadequadas, mortes_desconhecidas]\n",
    "colors = ['#66b3ff', '#ff9999', '#99ff99']\n",
    "\n",
    "# Gráfico de barras dos óbitos por local adequado/inadequado\n",
    "plt.figure(figsize=(10, 6))\n",
    "plt.bar(labels, sizes, color=colors, edgecolor='black')\n",
    "plt.title('Óbitos por COVID por Local')\n",
    "plt.xlabel('Local')\n",
    "plt.ylabel('Número de Óbitos')\n",
    "plt.show()"
   ]
  },
  {
   "cell_type": "code",
   "execution_count": null,
   "id": "5e5ceee4-a86f-49f9-b09f-a7d382c2e1f5",
   "metadata": {},
   "outputs": [],
   "source": [
    "# Calcular o desvio padrão das mortes por COVID por estado\n",
    "desvio_padrao = mortes_por_estado.std()\n",
    "print(f\"Desvio padrão do número de mortes por COVID por estado: {desvio_padrao:.2f}\")\n",
    "\n",
    "# Calcular a média das mortes por COVID por estado\n",
    "media_mortes_por_estado = mortes_por_estado.mean()\n",
    "print(f\"Média do número de mortes por COVID por estado: {media_mortes_por_estado:.2f}\")\n",
    "\n",
    "# Calcular o coeficiente de variação (CV)\n",
    "coeficiente_variacao = (desvio_padrao / media_mortes_por_estado) * 100\n",
    "print(f\"Coeficiente de variação (CV): {coeficiente_variacao:.2f}%\")"
   ]
  },
  {
   "cell_type": "code",
   "execution_count": null,
   "id": "6d5f6bee-eaa0-4eec-83d7-8c7b2ef3496a",
   "metadata": {},
   "outputs": [],
   "source": [
    "# Criar o histograma\n",
    "plt.figure(figsize=(10, 6))\n",
    "mortes_por_estado.plot(kind=\"hist\", bins=20, color=\"skyblue\", edgecolor=\"black\")\n",
    "plt.xlabel(\"Número de Mortes\")\n",
    "plt.ylabel(\"Frequência\")\n",
    "plt.title(\"Histograma de Mortes por COVID por Estado\")\n",
    "plt.axvline(x=media_mortes_por_estado, color=\"red\", linestyle=\"dashed\", linewidth=2, label=f\"Média: {media_mortes_por_estado:.2f}\")\n",
    "plt.axvline(x=media_mortes_por_estado + desvio_padrao, color=\"yellow\", linestyle=\"dashed\", linewidth=2, label=f\"Média + Desvio Padrão: {(media_mortes_por_estado + desvio_padrao):.2f}\")\n",
    "plt.axvline(x=media_mortes_por_estado - desvio_padrao, color=\"yellow\", linestyle=\"dashed\", linewidth=2, label=f\"Média - Desvio Padrão: {(media_mortes_por_estado - desvio_padrao):.2f}\")\n",
    "plt.grid(True)\n",
    "plt.tight_layout()\n",
    "plt.show()"
   ]
  },
  {
   "cell_type": "code",
   "execution_count": null,
   "id": "551145b0-cc5b-49ce-9513-7075a35d3153",
   "metadata": {},
   "outputs": [],
   "source": [
    "# Criar o boxplot\n",
    "plt.figure(figsize=(8, 6))\n",
    "plt.boxplot(mortes_por_estado)\n",
    "\n",
    "plt.xlabel(\"Número de Mortes\")\n",
    "plt.title(\"Boxplot de Mortes por COVID por Estado\")\n",
    "plt.show()"
   ]
  },
  {
   "cell_type": "code",
   "execution_count": null,
   "id": "da16288a-8b82-4fba-8d80-15f01ef63ba8",
   "metadata": {},
   "outputs": [],
   "source": [
    "# Criar o gráfico de barras\n",
    "plt.figure(figsize=(12, 8))\n",
    "plt.bar(mortes_por_estado.index, mortes_por_estado.values, color='skyblue')\n",
    "\n",
    "plt.xlabel('Unidade da Federação (UF)')\n",
    "plt.ylabel('Número de Mortes')\n",
    "plt.title('Quantidade de Mortes por COVID-19 por UF')\n",
    "plt.xticks(rotation=90)\n",
    "plt.tight_layout()\n",
    "plt.show()"
   ]
  },
  {
   "cell_type": "code",
   "execution_count": null,
   "id": "92cfe39d-ade0-4a1f-a467-81a0d7266c22",
   "metadata": {},
   "outputs": [],
   "source": []
  }
 ],
 "metadata": {
  "kernelspec": {
   "display_name": "Python 3 (ipykernel)",
   "language": "python",
   "name": "python3"
  },
  "language_info": {
   "codemirror_mode": {
    "name": "ipython",
    "version": 3
   },
   "file_extension": ".py",
   "mimetype": "text/x-python",
   "name": "python",
   "nbconvert_exporter": "python",
   "pygments_lexer": "ipython3",
   "version": "3.11.7"
  }
 },
 "nbformat": 4,
 "nbformat_minor": 5
}
